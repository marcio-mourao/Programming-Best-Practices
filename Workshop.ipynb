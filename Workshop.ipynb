{
 "cells": [
  {
   "cell_type": "markdown",
   "metadata": {
    "nbpresent": {
     "id": "f77e2465-07f3-4ad0-ab0b-970cc19da161"
    }
   },
   "source": [
    "# <center> PROGRAMMING: BEST PRACTICES <br/><br/> CSCAR WORKSHOP <br/><br/> 08/22/2017\n",
    "## <center> Marcio Mourao, Michael Clark, Alex Gaenko"
   ]
  },
  {
   "cell_type": "markdown",
   "metadata": {
    "collapsed": true
   },
   "source": [
    "# <center> Workshop setup\n",
    "\n",
    "<ul>\n",
    "    <li>Go to the page https://marcio-mourao.github.io/</li><br/>\n",
    "    <li>Download \"Workshop.ipynb\" and/or \"Workshop.html\" under \"Best Practices in Scientific Computing\" to your \"username/Documents\"</li><br/>\n",
    "    <li>For the notebook:</li><br/>\n",
    "    <ul>\n",
    "        <li>Click the Windows button (Bottom Left Corner)</li><br/>\n",
    "        <li>Click \"All apps\"</li><br/>\n",
    "        <li>Click \"Anaconda3 (64-bit)\"</li><br/>\n",
    "        <li>Click \"Jupyter Notebook\" </li><br/>\n",
    "        <li>Click \"Workshop.ipynb\" (this should open a new tab in the browser)</li>\n",
    "    </ul>\n",
    "</ul>"
   ]
  },
  {
   "cell_type": "markdown",
   "metadata": {},
   "source": [
    "# <center> Introduction\n",
    "\n",
    "<ul>\n",
    "  <li>Please, sign up the sheet! </li>\n",
    "  <li>Don't forget to go to: http://cscar.research.umich.edu/ to know what we're offering!</li>\n",
    "  <li>Any questions/feedback, you can send an email to <a href=\"mailto:mdam@umich.edu\" target=\"_top\">Marcio</a>, <a href=\"mailto:micl@umich.edu\" target=\"_top\">Michael</a> or <a href=\"mailto:galexv@umich.edu\" target=\"_top\">Alex</a>.\n",
    "</ul>"
   ]
  },
  {
   "cell_type": "markdown",
   "metadata": {},
   "source": [
    "# <center> Summary of this workshop\n",
    "\n",
    "<ul>\n",
    "    <li>Use sensible identifier names</li><br/>\n",
    "    <li>Use proper and consistent indentation</li><br/>\n",
    "    <li>Avoid deep nesting</li><br/>\n",
    "    <li>Limit line length</li><br/>\n",
    "    <li>Comment and Document</li><br/>\n",
    "    <li>Use Modularization (DRY)</li><br/>\n",
    "    <li>Run tests</li><br/>\n",
    "    <li>Run performance analysis</li><br/>\n",
    "    <li>Use an Interactive Development Environment (IDE)</li><br/>\n",
    "    <li>Use a Version Control System (VCS)</li><br/>\n",
    "    <li>The KISS principle</li>\n",
    "</ul>"
   ]
  },
  {
   "cell_type": "markdown",
   "metadata": {},
   "source": [
    "# <center> References\n",
    "\n",
    "<ul>\n",
    "  <li>https://www.continuum.io/anaconda-overview</li><br/>\n",
    "  <li>https://code.tutsplus.com/tutorials/top-15-best-practices-for-writing-super-readable-code--net-8118</li><br/>\n",
    "  <li>https://salfarisi25.wordpress.com/2010/12/22/advantage-and-disadvantage-of-using-ide/</li><br/>\n",
    "  <li>https://www.python.org/dev/peps/pep-0008/</li><br/>\n",
    "  <li>https://wiki.python.org/moin/</li><br/>\n",
    "  <li>http://journals.plos.org/plosbiology/article?id=10.1371/journal.pbio.1001745</li><br/>\n",
    "  <li>https://davidhamann.de/2017/04/22/debugging-jupyter-notebooks/</li><br/>\n",
    "  <li>https://powerfulpython.com/blog/automated-tests-types-for-python/</li>\n",
    "</ul>"
   ]
  },
  {
   "cell_type": "markdown",
   "metadata": {},
   "source": [
    "## Import relevant packages for this workshop"
   ]
  },
  {
   "cell_type": "code",
   "execution_count": 1,
   "metadata": {
    "collapsed": true,
    "nbpresent": {
     "id": "56b6dfff-16a3-4ab8-b0cb-497226d0e34f"
    }
   },
   "outputs": [],
   "source": [
    "import numpy as np"
   ]
  },
  {
   "cell_type": "markdown",
   "metadata": {},
   "source": [
    "# <center>Use sensible identifier names"
   ]
  },
  {
   "cell_type": "markdown",
   "metadata": {},
   "source": [
    "<ul>\n",
    "    <li>Identifier names must begin with either a letter or an underscore character. Following that, you can use an unlimited sequence of letters, numbers, or underscore characters</li><br/>\n",
    "    <li>The letters can be uppercase or lowercase, and case is significant.  In other words, the identifier **``Ax``** is not the same as the identifier **``aX``**</li><br/>\n",
    "    <li>Numbers can be any of the digit characters between and including 0 and 9</li><br/>\n",
    "    <li>Underscores can have a special meaning, so be careful when using it (this is especially often true for leading, trailing, and double underscores).</li><br/>\n",
    "    <li>Identifier names should be descriptive and contain one or more words</li><br/>\n",
    "    <li>Even if you language permits Unicode (non-English) identifiers, *do not use them*!</li>\n",
    "</ul>"
   ]
  },
  {
   "cell_type": "markdown",
   "metadata": {},
   "source": [
    "## Consistent naming scheme\n",
    "\n",
    "There are two popular options:\n",
    "<ul> \n",
    "    <li>camelCase: First letter of each word is capitalized, except the first word, like: ``getMaxValue()``</li><br/>\n",
    "    <li>underscores_in_names: Underscores between words, like: ``get_max_value()``</li>\n",
    "</ul>\n",
    "<br/>\n",
    "Important special case of camelCase: \"Hungarian notation\"\n",
    "<ul>\n",
    "    <li>``nTotalItems``: this variable has a meaning of \"size\" (and is presumably integer) </li>\n",
    "    <li>``iCurrentItem``: this variable has a meaning of \"index\" (and is also integer)</li>\n",
    "    <li>``fReflectivity``: this variable is a floating point\n",
    "</ul>\n",
    "<br/>\n",
    "The issue is not without controversies, and choosing proper names is a skill. See [SE-Radio Episode 278: Peter Hilton on Naming](http://www.se-radio.net/2016/12/se-radio-episode-278-peter-hilton-on-naming/) (http://www.se-radio.net/2016/12/se-radio-episode-278-peter-hilton-on-naming/) for some discussion.\n",
    "\n",
    "Important: whatever approach you choose, **Be consistent**"
   ]
  },
  {
   "cell_type": "code",
   "execution_count": 4,
   "metadata": {
    "collapsed": false
   },
   "outputs": [
    {
     "name": "stdout",
     "output_type": "stream",
     "text": [
      "0.3\n",
      "5.7\n"
     ]
    }
   ],
   "source": [
    "def get_min_value(lst):\n",
    "    out=min(lst)\n",
    "    return out\n",
    "\n",
    "def get_max_value(lst):\n",
    "    out=max(lst)\n",
    "    return out\n",
    "\n",
    "myList=np.array([0.3,4,1.5,5.7])\n",
    "minValue=get_min_value(myList)\n",
    "maxValue=get_max_value(myList)\n",
    "\n",
    "print(minValue)\n",
    "print(maxValue)"
   ]
  },
  {
   "cell_type": "markdown",
   "metadata": {},
   "source": [
    "## Consistent temporary names\n",
    "\n",
    "Temporary variables can be as short as a single character. Be consistent with names that have the same kind of role.\n",
    "\n",
    "Important: **Be consistent**"
   ]
  },
  {
   "cell_type": "code",
   "execution_count": 10,
   "metadata": {
    "collapsed": false
   },
   "outputs": [
    {
     "name": "stdout",
     "output_type": "stream",
     "text": [
      "Value i,j: 0,2\n",
      "Value i,j: 0,3\n",
      "Value i,j: 1,2\n",
      "Value i,j: 1,3\n"
     ]
    }
   ],
   "source": [
    "#i for loop counters\n",
    "for i in range(0,2):    \n",
    "    #j for nested loop counters\n",
    "    for j in range(2,4):\n",
    "        print(\"Value i,j: %d,%d\" %(i,j))"
   ]
  },
  {
   "cell_type": "code",
   "execution_count": 11,
   "metadata": {
    "collapsed": false
   },
   "outputs": [
    {
     "name": "stdout",
     "output_type": "stream",
     "text": [
      "[ 0.  0.]\n",
      "[ 1.  1.  1.]\n"
     ]
    }
   ],
   "source": [
    "#out for returning variables\n",
    "def create_zeros(n):\n",
    "    out=np.zeros(n)\n",
    "    return out\n",
    "\n",
    "def create_ones(n):\n",
    "    out=np.ones(n)\n",
    "    return out\n",
    "\n",
    "nZeros=create_zeros(2)\n",
    "nOnes=create_ones(3)\n",
    "\n",
    "print(nZeros)\n",
    "print(nOnes)"
   ]
  },
  {
   "cell_type": "markdown",
   "metadata": {},
   "source": [
    "## Avoid \"magic numbers\""
   ]
  },
  {
   "cell_type": "code",
   "execution_count": 3,
   "metadata": {
    "collapsed": true
   },
   "outputs": [],
   "source": [
    "def BusinessLogic(d):\n",
    "    # ....\n",
    "    return d*8*5*52 # WHAT ARE THOSE NUMBERS???"
   ]
  },
  {
   "cell_type": "code",
   "execution_count": 1,
   "metadata": {
    "collapsed": true
   },
   "outputs": [],
   "source": [
    "def BusinessLogic(work_days):\n",
    "    #.....\n",
    "    HOURS_PER_WORKDAY=8\n",
    "    WORKDAYS_PER_WEEK=5\n",
    "    WEEKS_PER_YEAR=52\n",
    "    return HOURS_PER_WORKDAY*WORKDAYS_PER_WEEK*WEEKS_PER_YEAR*work_days\n"
   ]
  },
  {
   "cell_type": "markdown",
   "metadata": {},
   "source": [
    "# <center>Use proper and consistent indentation"
   ]
  },
  {
   "cell_type": "code",
   "execution_count": 14,
   "metadata": {
    "collapsed": false
   },
   "outputs": [
    {
     "ename": "IndentationError",
     "evalue": "expected an indented block (<ipython-input-14-d943fe242193>, line 3)",
     "output_type": "error",
     "traceback": [
      "\u001b[0;36m  File \u001b[0;32m\"<ipython-input-14-d943fe242193>\"\u001b[0;36m, line \u001b[0;32m3\u001b[0m\n\u001b[0;31m    if l==0:\u001b[0m\n\u001b[0m     ^\u001b[0m\n\u001b[0;31mIndentationError\u001b[0m\u001b[0;31m:\u001b[0m expected an indented block\n"
     ]
    }
   ],
   "source": [
    "# ...\n",
    "def factorial(l):\n",
    "if l==0:\n",
    "return 1\n",
    "else:\n",
    "return l*factorial(l-1)\n",
    "    \n",
    "factValue=factorial(5)\n",
    "print(factValue)"
   ]
  },
  {
   "cell_type": "markdown",
   "metadata": {},
   "source": [
    "...even if your language does not enforce identation.\n",
    "\n",
    "Compare:"
   ]
  },
  {
   "cell_type": "markdown",
   "metadata": {},
   "source": [
    "```C++\n",
    "#include <iostream>\n",
    "int main(int argc, char** argv) { const char* name=\"world\"; if (argc>2) { name=argv[1]; } std::cout << \"Hello, \" << name << \"!\" << std::endl; return 0; }\n",
    "```"
   ]
  },
  {
   "cell_type": "markdown",
   "metadata": {},
   "source": [
    "with:"
   ]
  },
  {
   "cell_type": "markdown",
   "metadata": {},
   "source": [
    "```C++\n",
    "#include <iostream>\n",
    "\n",
    "int main(int argc, char** argv) \n",
    "{ \n",
    "    const char* name=\"world\";\n",
    "    if (argc>2) { \n",
    "        name=argv[1]; \n",
    "    } \n",
    "    \n",
    "    std::cout << \"Hello, \"\n",
    "              << name \n",
    "              << \"!\"\n",
    "              << std::endl;\n",
    "              \n",
    "    return 0; \n",
    "}\n",
    "```\n"
   ]
  },
  {
   "cell_type": "markdown",
   "metadata": {},
   "source": [
    "Although Python does enforce some identation, you are still responsible for readability:"
   ]
  },
  {
   "cell_type": "code",
   "execution_count": 15,
   "metadata": {
    "collapsed": false
   },
   "outputs": [
    {
     "name": "stdout",
     "output_type": "stream",
     "text": [
      "1\n"
     ]
    }
   ],
   "source": [
    "# No: Further indentation required as indentation is not distinguishable.\n",
    "def long_function_name(\n",
    "    var_one, var_two, var_three,\n",
    "    var_four):\n",
    "    print(var_one)\n",
    "\n",
    "var_one=1\n",
    "var_two=2\n",
    "var_three=3\n",
    "var_four=4\n",
    "    \n",
    "# No: Arguments on first line forbidden when not using vertical alignment.\n",
    "foo = long_function_name(var_one, var_two,\n",
    "    var_three, var_four)"
   ]
  },
  {
   "cell_type": "code",
   "execution_count": 17,
   "metadata": {
    "collapsed": false
   },
   "outputs": [
    {
     "name": "stdout",
     "output_type": "stream",
     "text": [
      "1\n",
      "1\n"
     ]
    }
   ],
   "source": [
    "# Yes: More indentation included to distinguish this from the rest.\n",
    "def long_function_name(\n",
    "        var_one, var_two, var_three,\n",
    "        var_four):\n",
    "    print(var_one)\n",
    "\n",
    "var_one=1\n",
    "var_two=2\n",
    "var_three=3\n",
    "var_four=4\n",
    "    \n",
    "# Yes: Aligned with opening delimiter.\n",
    "foo = long_function_name(var_one, var_two,\n",
    "                         var_three, var_four)\n",
    "\n",
    "# Yes: Hanging indents should add a level.\n",
    "foo = long_function_name(\n",
    "    var_one, var_two,\n",
    "    var_three, var_four)"
   ]
  },
  {
   "cell_type": "markdown",
   "metadata": {},
   "source": [
    "# <center>Avoid deep nesting"
   ]
  },
  {
   "cell_type": "code",
   "execution_count": 18,
   "metadata": {
    "collapsed": true
   },
   "outputs": [],
   "source": [
    "def do_stuff():\n",
    "# ...\n",
    "    if (logical_condition1):\n",
    "        if (logical_condition2):\n",
    "            if (logical_condition3):\n",
    "                if (logical_condition4): \n",
    "                    return True \n",
    "                else:\n",
    "                    return False\n",
    "            else:\n",
    "                return False\n",
    "        else:\n",
    "            return False\n",
    "    else:\n",
    "        return False"
   ]
  },
  {
   "cell_type": "code",
   "execution_count": 19,
   "metadata": {
    "collapsed": true
   },
   "outputs": [],
   "source": [
    "def do_stuff():\n",
    "# ...\n",
    "    if (logical_condition1 and logical_condition2 and logical_condition3 and logical_condition4):\n",
    "        return True\n",
    "    else:\n",
    "        return False"
   ]
  },
  {
   "cell_type": "markdown",
   "metadata": {},
   "source": [
    "# <center>Limit line length\n",
    "\n",
    "<ul> \n",
    "    <li>Limit all lines to a maximum of 79 characters</li><br/>\n",
    "    <li>For flowing long blocks of text with fewer structural restrictions (docstrings or comments), the line length should be limited to 72 characters</li><br/>\n",
    "    <li>The preferred way of wrapping long lines is by using Python's implied line continuation inside parentheses, brackets and braces. Long lines can be broken over multiple lines by wrapping expressions in parentheses. These should be used in preference to using a backslash for line continuation</li><br/>\n",
    "</ul>"
   ]
  },
  {
   "cell_type": "markdown",
   "metadata": {},
   "source": [
    "with open('/path/to/some/file/you/want/to/read') as file_1, \\\n",
    "     open('/path/to/some/file/being/written', 'w') as file_2:\n",
    "    file_2.write(file_1.read())"
   ]
  },
  {
   "cell_type": "code",
   "execution_count": null,
   "metadata": {
    "collapsed": true
   },
   "outputs": [],
   "source": [
    "# No: operators sit far away from their operands\n",
    "income = (gross_wages +\n",
    "          taxable_interest +\n",
    "          (dividends - qualified_dividends) -\n",
    "          ira_deduction -\n",
    "          student_loan_interest)"
   ]
  },
  {
   "cell_type": "code",
   "execution_count": null,
   "metadata": {
    "collapsed": true
   },
   "outputs": [],
   "source": [
    "# Yes: easy to match operators with operands\n",
    "income = (gross_wages\n",
    "          + taxable_interest\n",
    "          + (dividends - qualified_dividends)\n",
    "          - ira_deduction\n",
    "          - student_loan_interest)"
   ]
  },
  {
   "cell_type": "markdown",
   "metadata": {},
   "source": [
    "# <center>Comment and Document\n",
    "\n",
    "<ul> \n",
    "    <li>Comments are not parsed by the language interpreter/compiler. Therefore, the computer has no way of verifying that the comment makes sense, is correct, and is not out-of-date.</li><br/>\n",
    "    <li>Comments that contradict the code are worse than no comments. Always make a priority of keeping the comments up-to-date when the code changes.</li><br/>\n",
    "    <li>Comments should be complete sentences. If a comment is a phrase or sentence, its first word should be capitalized, unless it is an identifier that begins with a lower case letter (never alter the case of identifiers!).</li><br/>\n",
    "    <li>If a comment is short, the period at the end can be omitted. Block comments generally consist of one or more paragraphs built out of complete sentences, and each sentence should end in a period.</li><br/>\n",
    "    <li>Python coders from non-English speaking countries: please write your comments in English, unless you are 120% sure that the code will never be read by people who don't speak your language.</li>\n",
    "</ul>\n"
   ]
  },
  {
   "cell_type": "code",
   "execution_count": 1,
   "metadata": {
    "collapsed": true
   },
   "outputs": [],
   "source": [
    "## Have you ever seen this?\n",
    "def DoWork(arg):\n",
    "    # ... do some work ...\n",
    "    pass\n",
    "    # CAUTION: This function should never return 0!\n",
    "    return 0\n"
   ]
  },
  {
   "cell_type": "markdown",
   "metadata": {},
   "source": [
    "## Block Comments\n",
    "\n",
    "<ul> \n",
    "    <li>Block comments generally apply to some (or all) code that follows them, and are indented to the same level as that code. Each line of a block comment starts with a # and a single space (unless it is indented text inside the comment).</li><br/>\n",
    "\n",
    "    <li>Paragraphs inside a block comment are separated by a line containing a single # .</li>\n",
    "</ul>"
   ]
  },
  {
   "cell_type": "markdown",
   "metadata": {},
   "source": [
    "## Inline Comments"
   ]
  },
  {
   "cell_type": "code",
   "execution_count": null,
   "metadata": {
    "collapsed": true
   },
   "outputs": [],
   "source": [
    "x = x + 1                 # No: Increment x\n",
    "\n",
    "x = x + 1                 # Yes: Compensate for border"
   ]
  },
  {
   "cell_type": "markdown",
   "metadata": {},
   "source": [
    "# <center>Use modularization (DRY)"
   ]
  },
  {
   "cell_type": "markdown",
   "metadata": {},
   "source": [
    "<ul> \n",
    "    <li>Anything that is repeated in two or more places is more difficult to maintain.</li><br/>\n",
    "    <li>Every piece of data must have a single authoritative representation in the system</li><br/>\n",
    "    <ul>\n",
    "        <li>Physical constants ought to be defined exactly once.</li>\n",
    "    </ul><br/>\n",
    "    <li>Modularize code rather than copying and pasting.</li><br/>\n",
    "</ul>"
   ]
  },
  {
   "cell_type": "markdown",
   "metadata": {},
   "source": [
    "## Reinventing the wheel"
   ]
  },
  {
   "cell_type": "markdown",
   "metadata": {},
   "source": [
    "<p/>\n",
    "\"**Reinventing the wheel**\" is usually counter-productive and inefficient.<br/><br/>\n",
    "\"*Stand on the shoulders of giants*\"! Consider using:\n",
    "<ul>\n",
    "    <li> Standard library of your language. Chances that the language authors thought of it! </li><br/>\n",
    "    <li> Third-party libraries, especially well-known in your field (such as ``NumPy``). Chances that you are not the first person facing this problem! </li><br/>\n",
    "    <li> Specialized distributions (``Anaconda``,  ``Intel distribution for Python``).</li><br/>\n",
    "</ul>\n",
    "\n",
    "*Note*: While it is true that sometimes a sub-problem can be more naturally expressed and/or easier and faster solved in some other language, it is not for the faint of heart! We may cover multi-language development in a future workshop. "
   ]
  },
  {
   "cell_type": "code",
   "execution_count": 9,
   "metadata": {
    "collapsed": false
   },
   "outputs": [
    {
     "name": "stdout",
     "output_type": "stream",
     "text": [
      "2\n",
      "2\n"
     ]
    }
   ],
   "source": [
    "import fibonacci\n",
    "\n",
    "fib=fibonacci.ifib\n",
    "\n",
    "print(fibonacci.fib(3))\n",
    "print(fib(3))"
   ]
  },
  {
   "cell_type": "markdown",
   "metadata": {},
   "source": [
    "# <center>Run tests"
   ]
  },
  {
   "cell_type": "markdown",
   "metadata": {},
   "source": [
    "<ul>\n",
    "    <li>An assertion is simply a statement that something holds true at a particular point in a program. Assertions can be used to ensure that inputs are valid, outputs are consistent, and so on.</li><br/>\n",
    "    <li>The approach based on asserting input/output values is sometimes called *programming by contract*.</li>\n",
    "    <br/>\n",
    "    <ul>\n",
    "        <li>First, they ensure that if something does go wrong, the program will halt immediately, which simplifies debugging.</li><br/>\n",
    "        <li>Second, assertions are executable documentation, i.e., they explain the program as well as checking its behavior. This makes them more useful in many cases than comments since the reader can be sure that they are accurate and up to date.</li><br/>\n",
    "        <li>As such, assertions helps with \"impossible comments\" from the example above:</li>\n",
    "     </ul>\n",
    "</ul>"
   ]
  },
  {
   "cell_type": "code",
   "execution_count": 2,
   "metadata": {
    "collapsed": true
   },
   "outputs": [],
   "source": [
    "def DoWork(arg):\n",
    "    # ... do some work ...\n",
    "    pass\n",
    "    assert out!=0, \"This function should never return 0\"\n",
    "    return out"
   ]
  },
  {
   "cell_type": "markdown",
   "metadata": {},
   "source": [
    "## More involved example:"
   ]
  },
  {
   "cell_type": "code",
   "execution_count": 46,
   "metadata": {
    "collapsed": true
   },
   "outputs": [],
   "source": [
    "class MyDB:\n",
    "    def __init__(self):\n",
    "        self._id2name_map = {}\n",
    "        self._name2id_map = {}\n",
    " \n",
    "    def add(self, id, name):\n",
    "        self._name2id_map[name] = id\n",
    "        self._id2name_map[id] = name\n",
    " \n",
    "    def by_name(self, name):\n",
    "        return self._name2id_map[name]"
   ]
  },
  {
   "cell_type": "code",
   "execution_count": 47,
   "metadata": {
    "collapsed": true
   },
   "outputs": [],
   "source": [
    "def by_name(self, name):\n",
    "    id = self._name2id_map[name]\n",
    "    assert self._id2name_map[id] == name\n",
    "    return id"
   ]
  },
  {
   "cell_type": "code",
   "execution_count": 48,
   "metadata": {
    "collapsed": true
   },
   "outputs": [],
   "source": [
    "from types import *\n",
    "class MyDB:\n",
    "    ...\n",
    "    def add(self, id, name):\n",
    "        assert type(id) is IntType, \"id is not an integer: %r\" % id\n",
    "        assert type(name) is StringType, \"name is not a string: %r\" % name"
   ]
  },
  {
   "cell_type": "markdown",
   "metadata": {},
   "source": [
    "<ul>     \n",
    "     <li>Fixing bugs that have been identified is often easier if you use a symbolic debugger to track them down.</li>\n",
    "</ul>"
   ]
  },
  {
   "cell_type": "code",
   "execution_count": 3,
   "metadata": {
    "collapsed": false
   },
   "outputs": [
    {
     "name": "stdout",
     "output_type": "stream",
     "text": [
      "> <ipython-input-3-61b8dfe8948f>(6)add_to_life_universe_everything()\n",
      "-> answer += x\n",
      "(Pdb) answer\n",
      "42\n",
      "(Pdb) x\n",
      "12\n",
      "(Pdb) n\n",
      "> <ipython-input-3-61b8dfe8948f>(8)add_to_life_universe_everything()\n",
      "-> return answer\n",
      "(Pdb) answer\n",
      "54\n",
      "(Pdb) x\n",
      "12\n",
      "(Pdb) c\n"
     ]
    },
    {
     "data": {
      "text/plain": [
       "54"
      ]
     },
     "execution_count": 3,
     "metadata": {},
     "output_type": "execute_result"
    }
   ],
   "source": [
    "import pdb;\n",
    "\n",
    "def add_to_life_universe_everything(x):\n",
    "    answer = 42\n",
    "    pdb.set_trace()\n",
    "    answer += x    \n",
    "    \n",
    "    return answer\n",
    "\n",
    "add_to_life_universe_everything(12)"
   ]
  },
  {
   "cell_type": "markdown",
   "metadata": {},
   "source": [
    "<li>Run automated tests:</li><br/>\n",
    "  <ul>\n",
    "      <li>Ensure a single unit of code returns the correct results (unit tests), that pieces of code work correctly when combined (integration tests).</li><br/>\n",
    "      <li>Creating and managing tests is easier if programmers use an off-the-shelf unit testing library to initialize inputs, run tests, and report their results in a uniform way.</li><br/>\n",
    "      <li>One way of generating tests is to check to see whether the code matches the researcher's expectations of its behavior.</li><br/>\n",
    "      <li>Another approach for generating tests is to turn bugs into test cases by writing tests that trigger a bug that has been found in the code.</li><br/>\n",
    "      <li>Finally, there is a whole approach called **Test-Driven Development** (**TDD** - We will cover it in more detail in a future workshop.)</li>\n",
    "      <!--ol>\n",
    "          <li>Write a test for a feature.</li><br/>\n",
    "          <li>Run the test. Make sure it fails.</li><br/>\n",
    "          <li>Implement the feature.</li><br/>\n",
    "          <li>Run the test. Make sure it passes.</li><br/>\n",
    "          <li>Refactor. Make sure all tests still pass.</li><br/>\n",
    "          <li>Loop to step 1.</li><br/>\n",
    "      </ol-->\n",
    "  </ul>"
   ]
  },
  {
   "cell_type": "markdown",
   "metadata": {},
   "source": [
    "wordcount('foo bar foo  ')\n",
    "{'foo': 2, 'bar': 1}"
   ]
  },
  {
   "cell_type": "markdown",
   "metadata": {},
   "source": [
    "from wordcount import wordcount\n",
    "\n",
    "class TestUnit(unittest.TestCase):\n",
    "    def test_wordcount(self):\n",
    "        self.assertDictEqual(\n",
    "            {'foo' : 2, 'bar' : 1},\n",
    "            wordcount('foo bar foo  '))"
   ]
  },
  {
   "cell_type": "markdown",
   "metadata": {},
   "source": [
    "# <center>Run performance analysis"
   ]
  },
  {
   "cell_type": "markdown",
   "metadata": {},
   "source": [
    "In Donald Knuth's paper \"Structured Programming with ``go to`` Statements\", he wrote: \n",
    "> Programmers waste enormous amounts of time thinking about, or worrying about, the speed of noncritical parts of their programs, and these attempts at efficiency actually have a strong negative impact when debugging and maintenance are considered. We *should* forget about small efficiencies, say about 97% of the time: **premature optimization is the root of all evil**. Yet *we should not pass up our opportunities in that critical 3%*.\"\n",
    "\n",
    "(Ref: http://wiki.c2.com/?PrematureOptimization)"
   ]
  },
  {
   "cell_type": "markdown",
   "metadata": {},
   "source": [
    "<li>Before optimizing it, make sure your code works correctly: it is better to have correct program running slow than (subtly) incorrect program running fast!</li><br/>\n",
    "<li>Determine if it is actually worth speeding that piece of code up.</li><br/>\n",
    "<li>If it is, use a profiler to identify bottlenecks.</li><br/>\n",
    "<li>You can be more productive when you write code in the highest-level language possible.</li>"
   ]
  },
  {
   "cell_type": "code",
   "execution_count": 3,
   "metadata": {
    "collapsed": false
   },
   "outputs": [
    {
     "name": "stdout",
     "output_type": "stream",
     "text": [
      "         4 function calls in 0.002 seconds\n",
      "\n",
      "   Ordered by: standard name\n",
      "\n",
      "   ncalls  tottime  percall  cumtime  percall filename:lineno(function)\n",
      "        1    0.002    0.002    0.002    0.002 <ipython-input-3-82b9994e247b>:1(profileCommand)\n",
      "        1    0.000    0.000    0.002    0.002 <string>:1(<module>)\n",
      "        1    0.000    0.000    0.002    0.002 {built-in method builtins.exec}\n",
      "        1    0.000    0.000    0.000    0.000 {method 'disable' of '_lsprof.Profiler' objects}\n",
      "\n",
      "\n"
     ]
    }
   ],
   "source": [
    "def profileCommand(n):\n",
    "    out=1\n",
    "    for i in range(1, n+1):\n",
    "        out=out*i\n",
    "    return out\n",
    "\n",
    "import cProfile\n",
    "cProfile.run(\"result=profileCommand(2000)\")\n",
    "#print(result)"
   ]
  },
  {
   "cell_type": "code",
   "execution_count": 60,
   "metadata": {
    "collapsed": false
   },
   "outputs": [
    {
     "name": "stdout",
     "output_type": "stream",
     "text": [
      "6.383903488000215\n"
     ]
    }
   ],
   "source": [
    "# For benchmark tests\n",
    "from timeit import Timer\n",
    "\n",
    "def test(x):\n",
    "    \"Stupid test function\"\n",
    "    L = [i for i in range(x)]\n",
    "\n",
    "t = Timer(\"test(100)\", \"from __main__ import test\")\n",
    "print(t.timeit())"
   ]
  },
  {
   "cell_type": "markdown",
   "metadata": {},
   "source": [
    "# <center>Use an Interactive Development Environment (IDE)"
   ]
  },
  {
   "cell_type": "markdown",
   "metadata": {},
   "source": [
    "## Core Features"
   ]
  },
  {
   "cell_type": "markdown",
   "metadata": {},
   "source": [
    "<ul>\n",
    "  <li>Code completion</li>\n",
    "  <li>Resource management</li>\n",
    "  <li>Debugging tools</li>\n",
    "  <li>Compile and build</li>\n",
    "</ul>"
   ]
  },
  {
   "cell_type": "markdown",
   "metadata": {},
   "source": [
    "## Advantages"
   ]
  },
  {
   "cell_type": "markdown",
   "metadata": {},
   "source": [
    "<ul>\n",
    "  <li>Less time and effort</li>\n",
    "  <li>Enforce project or company standards</li>\n",
    "  <li>Project management</li>\n",
    "</ul>"
   ]
  },
  {
   "cell_type": "markdown",
   "metadata": {},
   "source": [
    "## Disadvantages"
   ]
  },
  {
   "cell_type": "markdown",
   "metadata": {},
   "source": [
    "<ul>\n",
    "  <li>Learning Curve</li>\n",
    "  <li>A sophisticated IDE may not be a good tool for beginning programmers</li>\n",
    "  <li>Will not fix bad code, practices, or design</li>\n",
    "  <li>Often heavy on resources</li>\n",
    "  <li>Enforced workflow may not be your preferred one</li>\n",
    "</ul>"
   ]
  },
  {
   "cell_type": "markdown",
   "metadata": {},
   "source": [
    "## IDEs Examples"
   ]
  },
  {
   "cell_type": "markdown",
   "metadata": {},
   "source": [
    "<ul>\n",
    "  <li>Spyder for Python applications</li>\n",
    "  <li>RStudio for R applications</li>\n",
    "  <li>Eclipse for Java applications</li>\n",
    "  <li>XCode for C++ applications</li>\n",
    "  <li>Much more...</li>\n",
    "</ul>"
   ]
  },
  {
   "cell_type": "markdown",
   "metadata": {},
   "source": [
    "# <center> Use a Version Control System (VCS)"
   ]
  },
  {
   "cell_type": "markdown",
   "metadata": {},
   "source": [
    "<li>When working with code and data, you need to keep track of the changes and collaborate on a program or dataset.</li><br/>\n",
    "<li>Typical solutions are to email software to colleagues or to copy successive versions of it to a shared folder, e.g., Dropbox (http://www.dropbox.com) - Don't do this!</li><br/>\n",
    "<li>Use a VCS - A VCS stores snapshots of a project's files in a repository (or a set of repositories).</li><br/>\n",
    "<li>Crucially, if several people have edited files simultaneously, the VCS highlights the differences and requires them to resolve any conflicts before accepting the changes.</li><br/>\n",
    "<li>The VCS also stores the entire history of those files.</li>\n",
    "<li>Many good VCS are open source and freely available:</li><br/>\n",
    "    <ul>\n",
    "        <li>Git (http://git-scm.com)</li>\n",
    "        <li>Subversion (http://subversion.apache.org)</li>\n",
    "        <li>Mercurial (http://mercurial.selenic.com)</li><br/> \n",
    "    </ul>\n",
    "<li>There are also free hosting services available:</li><br/>\n",
    "    <ul>\n",
    "        <li>GitHub (https://github.com)</li> \n",
    "        <li>GitLab (https://gitlab.com)</li> \n",
    "        <li>BitBucket (https://bitbucket.org)</li> \n",
    "    </ul>"
   ]
  },
  {
   "cell_type": "markdown",
   "metadata": {},
   "source": [
    "# <center> The Kiss principle"
   ]
  },
  {
   "cell_type": "markdown",
   "metadata": {},
   "source": [
    "**KISS** stands for **K**eep **I**t **S**imple and **S**tupid (*figuratively speaking*!)\n",
    "<ul>\n",
    "    <li> Other conditions being equal, prefer simplicity to complexity. </li><br/>\n",
    "    <li> Do not try to be too clever. Think of other people reading your code — or of yourself 2 weeks down the road!</li><br/>\n",
    "    <li> If you think you need performance, first think again (we will talk about it shortly).</li><br/>\n",
    "    <li> If you do need clever tricks to achieve performance, comment and document extensively!</li><br/>\n",
    "</ul>"
   ]
  }
 ],
 "metadata": {
  "anaconda-cloud": {},
  "kernelspec": {
   "display_name": "Python [conda root]",
   "language": "python",
   "name": "conda-root-py"
  },
  "language_info": {
   "codemirror_mode": {
    "name": "ipython",
    "version": 3
   },
   "file_extension": ".py",
   "mimetype": "text/x-python",
   "name": "python",
   "nbconvert_exporter": "python",
   "pygments_lexer": "ipython3",
   "version": "3.5.3"
  },
  "nbpresent": {
   "slides": {
    "8ce21dab-2b7a-439c-8f0a-8a1036a1ac0d": {
     "id": "8ce21dab-2b7a-439c-8f0a-8a1036a1ac0d",
     "prev": null,
     "regions": {
      "d8401624-efe9-4853-a676-de863b4ba3cd": {
       "attrs": {
        "height": 1,
        "width": 1,
        "x": 0,
        "y": 0
       },
       "id": "d8401624-efe9-4853-a676-de863b4ba3cd"
      }
     },
     "theme": null
    }
   },
   "themes": {}
  }
 },
 "nbformat": 4,
 "nbformat_minor": 1
}
